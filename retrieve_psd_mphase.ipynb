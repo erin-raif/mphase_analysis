{
 "cells": [
  {
   "cell_type": "markdown",
   "id": "4e19af8e-5d80-4b6c-a22b-8db23a8d4b8c",
   "metadata": {},
   "source": [
    "# Figure 4\n",
    "Particle-size distributions. These are created using the *faamasd* library, developed for this paper. Currently, this can be installed using pip via github, following the instructions in the README.md file."
   ]
  },
  {
   "cell_type": "code",
   "execution_count": 1,
   "id": "e00be59c-7828-43c8-8ffe-722d38313223",
   "metadata": {},
   "outputs": [],
   "source": [
    "# Standard Library\n",
    "import os\n",
    "import re  # regex (not sure why)\n",
    "from glob import glob\n",
    "import datetime as dt\n",
    "#import cmath\n",
    "\n",
    "# Others\n",
    "import pandas as pd\n",
    "import numpy as np\n",
    "import xarray as xr\n",
    "\n",
    "import matplotlib.pyplot as plt\n",
    "import matplotlib.ticker as mticker\n",
    "import matplotlib.dates as mdates\n",
    "import matplotlib.patches as mpatches\n",
    "import matplotlib.colors as mcolors\n",
    "from matplotlib.collections import LineCollection\n",
    "import matplotlib as mpl\n",
    "\n",
    "import warnings\n",
    "warnings.simplefilter(\"ignore\", category=FutureWarning) # for FutureWarning only\n",
    "\n",
    "import faamasd as asd"
   ]
  },
  {
   "cell_type": "code",
   "execution_count": 2,
   "id": "0d9edce6-b25c-4765-9463-605c01b659f4",
   "metadata": {},
   "outputs": [],
   "source": [
    "base = '/home/users/erinraif/mphase_data/probe_calibration/'"
   ]
  },
  {
   "cell_type": "code",
   "execution_count": 3,
   "id": "089aed39-f910-4788-8c57-f6d41e44fd73",
   "metadata": {},
   "outputs": [],
   "source": [
    "pcasp_scattering_inputs = asd.pcasp_scattering_inputs\n",
    "cdp_scattering_inputs = asd.cdp_scattering_inputs\n",
    "mie_scattering_folder = base + 'scattering_files'\n",
    "cdp_channel_data_folder = base + 'channel_data_CDP'\n",
    "pcasp_channel_data_folder = base + 'channel_data_PCASP'\n",
    "attribute_file = base + 'attributes_for_calibration_arrays.txt' # Set to None if not present"
   ]
  },
  {
   "cell_type": "code",
   "execution_count": 4,
   "id": "cafe7ce4-ead5-489b-9f76-41966ca9eca0",
   "metadata": {},
   "outputs": [],
   "source": [
    "pcasp_calibration = asd.produce_calibration_dataset(pcasp_channel_data_folder,pcasp_scattering_inputs,\n",
    "                                                    attribute_file)\n",
    "cdp_calibration = asd.produce_calibration_dataset(cdp_channel_data_folder,cdp_scattering_inputs,attribute_file)"
   ]
  },
  {
   "cell_type": "code",
   "execution_count": 5,
   "id": "b85a954e-227d-49bb-90bc-5d29815a3602",
   "metadata": {},
   "outputs": [],
   "source": [
    "pcasp_cal_at_ri = pcasp_calibration.sel(refractive_index = 1.56+0j)\n",
    "cdp_cal_at_ri = cdp_calibration.sel(refractive_index = 1.56+0j)\n"
   ]
  },
  {
   "cell_type": "code",
   "execution_count": 6,
   "id": "3284f8f6-d372-49ab-9fbf-96eb02e2cb69",
   "metadata": {
    "scrolled": true
   },
   "outputs": [],
   "source": [
    "timings_data = pd.read_csv(\n",
    "    '/home/users/erinraif/mphase_data/metadata/M-Phase_filter_start_stops.csv',\n",
    "    index_col='unique_ID')\n",
    "#timings_data = timings_data[timings_data['psd_available'] == True]\n",
    "#timings_data = timings_data.drop(['c276r3t','c278r3t'])"
   ]
  },
  {
   "cell_type": "code",
   "execution_count": 7,
   "id": "90fee8f6-a80b-4014-ac45-2b0b22354308",
   "metadata": {},
   "outputs": [],
   "source": [
    "timings_data['short_ID'] = (timings_data.index.str[7:11].str.lower() +\n",
    "                            timings_data.index.str[12:14].str.lower())\n",
    "timings_data['flight'] = timings_data['flight'].str.lower()\n",
    "timings_data['no_pauses'] = timings_data['no_pauses'].fillna(0)\n",
    "\n",
    "# Convert the 'no_pauses' column to integer data type\n",
    "timings_data['no_pauses'] = timings_data['no_pauses'].astype(int)"
   ]
  },
  {
   "cell_type": "code",
   "execution_count": 11,
   "id": "7c81713c-e242-4938-a638-1a94fd201b00",
   "metadata": {},
   "outputs": [],
   "source": [
    "def get_timings(metadata_row):\n",
    "    \"\"\"Retrieve filter run timings, including pauses.\n",
    "    \n",
    "    Returns a list of consecutive times as ints in SPM. This is in the format\n",
    "    [start, (pause1 start), (pause1 end), ..., end]\n",
    "    where pauses are only present where necessary.\n",
    "    \n",
    "    Parameters\n",
    "    ----------\n",
    "    metadata_row: pandas Series\n",
    "        row of the metadata pandas dataframe\n",
    "    \n",
    "    Returns\n",
    "    -------\n",
    "    list of ints\n",
    "        times in SPM of run events\n",
    "    \"\"\"\n",
    "    leg_start_times = [metadata_row.start_time]\n",
    "    leg_end_times = [metadata_row.end_time]\n",
    "    pauses = metadata_row.no_pauses\n",
    "    for i in range(pauses):\n",
    "        start_str = 'metadata_row.pause' + str(i+1) + '_end'\n",
    "        end_str = 'metadata_row.pause' + str(i+1) + '_start'\n",
    "        leg_start_times.append(eval(start_str))\n",
    "        leg_end_times.insert(i, eval(end_str))\n",
    "    return leg_start_times, leg_end_times"
   ]
  },
  {
   "cell_type": "code",
   "execution_count": 12,
   "id": "aa711a05-9624-4dd9-8ffb-719328c77b11",
   "metadata": {},
   "outputs": [],
   "source": [
    "def get_linestyle(count, colors, lines):\n",
    "    c = colors[count % len(colors)]\n",
    "    ls = lines[count // len(colors)]\n",
    "    return ls, c\n",
    "default_colors = mcolors.TABLEAU_COLORS\n",
    "colors = list(default_colors.keys())\n",
    "lines=['solid','dotted',(0,(5,1))]"
   ]
  },
  {
   "cell_type": "code",
   "execution_count": 13,
   "id": "29e37f3b-475e-4221-a5d0-d36e73d57a61",
   "metadata": {},
   "outputs": [],
   "source": [
    "def custom_formatter(x, pos):\n",
    "    if x < 1:\n",
    "        return \"{:.1f}\".format(x)\n",
    "    else:\n",
    "        return int(x)\n"
   ]
  },
  {
   "cell_type": "code",
   "execution_count": 23,
   "id": "8e9f027b-6e65-4140-91f6-93644a434381",
   "metadata": {},
   "outputs": [
    {
     "name": "stdout",
     "output_type": "stream",
     "text": [
      "rh_liq unavailable run  221103_C330_T1_1,000ft\n",
      "rh_liq unavailable run  221103_C330_T2_7,300ft\n"
     ]
    }
   ],
   "source": [
    "for run in timings_data.itertuples():    \n",
    "    core_cloud_data_fn = glob(os.path.join(\n",
    "        '/badc/faam/data/2022',run.flight + '*/core_processed','core-cloud*' + run.flight + '.nc'\n",
    "    ))[-1]\n",
    "    core_data_fn = glob(os.path.join(\n",
    "        '/badc/faam/data/2022',run.flight + '*/core_processed','core_faam*' + run.flight + '.nc'\n",
    "    ))[-1]\n",
    "    nev_data_fn = glob(os.path.join(\n",
    "        '/home/users/erinraif/mphase_data/nevzorov_data',run.flight + '*'))[-1]\n",
    "    flight_data = asd.get_data(core_cloud_data_fn, core_data_fn)\n",
    "\n",
    "    # Make Nevzorov cloud-flag data compatible with other datasets\n",
    "    nev_ds = xr.open_dataset(nev_data_fn, engine='netcdf4',decode_times=False)\n",
    "    nev_ds = nev_ds.rename_dims({'TIME': 'time'})\n",
    "    nev_ds = nev_ds.rename({'TIME': 'time'})\n",
    "    nev_flag = nev_ds.CLRFLG_COMBINED\n",
    "    leg_start_times, leg_end_times = get_timings(run)\n",
    "    nev_flag = asd.time_slice_data(leg_start_times, leg_end_times, nev_flag)\n",
    "    uncorrected_pcasp, corrected_pcasp, pcasp_flow = asd.get_pcasp_data_for_leg(flight_data, leg_start_times, leg_end_times)\n",
    "    uncorrected_pcasp = uncorrected_pcasp*1000\n",
    "    corrected_pcasp = corrected_pcasp*1000\n",
    "    pcasp_psds = asd.get_mean_log_psds(pcasp_cal_at_ri, uncorrected_pcasp, corrected_pcasp, pcasp_flow)\n",
    "    uncorrected_cdp, corrected_cdp, cdp_flow = asd.get_cdp_data_for_leg(flight_data, leg_start_times, leg_end_times)\n",
    "    uncorrected_cdp = uncorrected_cdp*1000\n",
    "    corrected_cdp = corrected_cdp*1000\n",
    "    try:\n",
    "        rh_liq = asd.time_slice_data(leg_start_times, leg_end_times, flight_data['RH_LIQ'])\n",
    "        rh_mask = rh_liq < 80\n",
    "        nev_mask = nev_flag > 0.5\n",
    "        comb_mask = rh_mask & nev_mask\n",
    "    except:\n",
    "        # if RH_LIQ doesn't work (C330, no idea why, haven't looked)\n",
    "        nev_mask = nev_flag > 0.5\n",
    "        comb_mask = nev_mask\n",
    "        print('rh_liq unavailable run ',run.Index)\n",
    "    comb_uncorrected_cdp = uncorrected_cdp.where(comb_mask,drop=True)\n",
    "    comb_corrected_cdp = corrected_cdp.where(comb_mask, drop=True)\n",
    "    comb_cdp_psds = asd.get_mean_log_psds(cdp_cal_at_ri, comb_uncorrected_cdp, comb_corrected_cdp, cdp_flow)\n",
    "    dN, dS, dV, dN_err, dS_err, dV_err = asd.integrate_distribution_with_errors(pcasp_psds, comb_cdp_psds)\n",
    "    df_row = dict(\n",
    "        run_ID = str(run.Index),\n",
    "        cdp_assump = 'both',\n",
    "        dN = dN,\n",
    "        dS = dS,\n",
    "        dV = dV,\n",
    "        dN_err = dN_err,\n",
    "        dS_err = dS_err,\n",
    "        dV_err = dV_err\n",
    "    )\n",
    "    # MARK CHANGE THE FOLLOWING dNdlogD to other variable names\n",
    "    # dNdlogD, dSdlogD, dVdlogD\n",
    "    # dNdlogD_err, dSdlogD_err, dVdlogD_err\n",
    "    # asymmetric size of x-errors (same for all flights):\n",
    "    # lin_log_diam_upper_error, lin_log_diam_lower_error\n",
    "    pcasp_dNdlogD = pcasp_psds.sel(bin=slice(2,29)).dNdlogD.values\n",
    "    cdp_dNdlogD = comb_cdp_psds.dNdlogD.values\n",
    "    pcasp_df.loc[run.Index] = pcasp_dNdlogD\n",
    "    cdp_df.loc[run.Index] = cdp_dNdlogD\n",
    "pcasp_df.to_csv('pcasp_dNdlogD_mphase.csv')\n",
    "cdp_df.to_csv('cdp_dNdlogD_mphase.csv')"
   ]
  },
  {
   "cell_type": "code",
   "execution_count": 25,
   "id": "8473041e-5e41-4797-b7e2-65c260a7eb74",
   "metadata": {},
   "outputs": [],
   "source": []
  },
  {
   "cell_type": "code",
   "execution_count": null,
   "id": "89d54431-c795-40ab-94cc-38ba09760705",
   "metadata": {},
   "outputs": [],
   "source": []
  }
 ],
 "metadata": {
  "kernelspec": {
   "display_name": "mphase",
   "language": "python",
   "name": "mphase"
  },
  "language_info": {
   "codemirror_mode": {
    "name": "ipython",
    "version": 3
   },
   "file_extension": ".py",
   "mimetype": "text/x-python",
   "name": "python",
   "nbconvert_exporter": "python",
   "pygments_lexer": "ipython3",
   "version": "3.11.9"
  }
 },
 "nbformat": 4,
 "nbformat_minor": 5
}
